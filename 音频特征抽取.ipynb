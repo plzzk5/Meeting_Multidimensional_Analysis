{
 "cells": [
  {
   "cell_type": "code",
   "execution_count": 1,
   "metadata": {},
   "outputs": [
    {
     "name": "stderr",
     "output_type": "stream",
     "text": [
      "c:\\Users\\25529\\anaconda3\\lib\\site-packages\\scipy\\__init__.py:146: UserWarning: A NumPy version >=1.16.5 and <1.23.0 is required for this version of SciPy (detected version 1.24.3\n",
      "  warnings.warn(f\"A NumPy version >={np_minversion} and <{np_maxversion}\"\n",
      "C:\\Users\\25529\\anaconda3\\Lib\\site-packages\\pyAudioAnalysis\\..\\pydub\\utils.py:170: RuntimeWarning: Couldn't find ffmpeg or avconv - defaulting to ffmpeg, but may not work\n",
      "  warn(\"Couldn't find ffmpeg or avconv - defaulting to ffmpeg, but may not work\", RuntimeWarning)\n"
     ]
    }
   ],
   "source": [
    "from pyAudioAnalysis import ShortTermFeatures as asF\n",
    "from pyAudioAnalysis import MidTermFeatures as amF\n",
    "from pyAudioAnalysis import audioBasicIO as aIO\n",
    "from pyAudioAnalysis import audioVisualization as aV\n",
    "import numpy as np\n",
    "import pandas as pd\n",
    "import plotly.graph_objs as go \n",
    "import plotly\n",
    "import IPython"
   ]
  },
  {
   "attachments": {},
   "cell_type": "markdown",
   "metadata": {},
   "source": [
    "## 自我介绍"
   ]
  },
  {
   "cell_type": "code",
   "execution_count": 2,
   "metadata": {},
   "outputs": [],
   "source": [
    "# fs为原文件采样率，s指音频文件总的样本数\n",
    "fs1, s1 = aIO.read_audio_file(\"C:/Users/25529/Desktop/File/2023spring/语言风格分析/4.24测试分析数据/录音/自我介绍/1-2.wav\"); s1 = s1[:,0]\n",
    "fs2, s2 = aIO.read_audio_file(\"C:/Users/25529/Desktop/File/2023spring/语言风格分析/4.24测试分析数据/录音/自我介绍/2-3.wav\"); s2 = s2[:,0]\n",
    "fs3, s3 = aIO.read_audio_file(\"C:/Users/25529/Desktop/File/2023spring/语言风格分析/4.24测试分析数据/录音/自我介绍/3-2.wav\"); s3 = s3[:,0]\n",
    "fs4, s4 = aIO.read_audio_file(\"C:/Users/25529/Desktop/File/2023spring/语言风格分析/4.24测试分析数据/录音/自我介绍/4-2.wav\"); s4 = s4[:,0]\n",
    "fs5_1, s5_1 = aIO.read_audio_file(\"C:/Users/25529/Desktop/File/2023spring/语言风格分析/4.24测试分析数据/录音/自我介绍/5-2.wav\"); s5_1 = s5_1[:,0]\n",
    "fs5_2, s5_2 = aIO.read_audio_file(\"C:/Users/25529/Desktop/File/2023spring/语言风格分析/4.24测试分析数据/录音/自我介绍/5-3.wav\"); s5_2 = s5_2[:,0]\n",
    "fs5 = fs5_1 if fs5_1>fs5_2 else fs5_2\n",
    "s5 = np.concatenate((s5_1, s5_2), axis=0)\n",
    "fs6, s6 = aIO.read_audio_file(\"C:/Users/25529/Desktop/File/2023spring/语言风格分析/4.24测试分析数据/录音/自我介绍/6-3.wav\"); s6 = s6[:,0]\n",
    "fs = [fs1, fs2, fs3, fs4, fs5, fs6]\n",
    "s = [s1, s2, s3, s4, s5, s6]"
   ]
  },
  {
   "cell_type": "code",
   "execution_count": null,
   "metadata": {},
   "outputs": [],
   "source": [
    "#示例播放\n",
    "IPython.display.display(IPython.display.Audio(\"C:/Users/25529/Desktop/File/2023spring/语言风格分析/4.24测试分析数据/录音/自我介绍/1-2.wav\"))"
   ]
  },
  {
   "cell_type": "code",
   "execution_count": 4,
   "metadata": {},
   "outputs": [
    {
     "name": "stdout",
     "output_type": "stream",
     "text": [
      "1:duration = 348.99401360544215 seconds\n",
      "2:duration = 193.417052154195 seconds\n",
      "3:duration = 223.73303854875283 seconds\n",
      "4:duration = 345.60693877551023 seconds\n",
      "5:duration = 473.01197278911565 seconds\n",
      "6:duration = 366.1079818594104 seconds\n"
     ]
    }
   ],
   "source": [
    "# 利用总样本数/每秒多少个样本=时长，来输出你的音频文件有多长\n",
    "for i,x in enumerate(s):\n",
    "    duration = len(x) / float(fs[i])\n",
    "    print(f'{i+1}:duration = {duration} seconds')"
   ]
  },
  {
   "cell_type": "code",
   "execution_count": 5,
   "metadata": {},
   "outputs": [],
   "source": [
    "# 提取短期特征，win和step代表窗口和步长，f为一个[68,片段长度]的矩阵，fn为特征名称，保存为csv\n",
    "win, step = 0.05, 0.05\n",
    "for i,x in enumerate(s):\n",
    "    [f, fn] = asF.feature_extraction(x, fs[i], fs[i] * win, fs[i] * step)\n",
    "    data = pd.DataFrame(np.transpose(f), columns=fn)\n",
    "    data.to_csv(f\"C:/Users/25529/Desktop/File/2023spring/语言风格分析/4.24测试分析数据/录音/自我介绍/自我介绍-{i+1}号-短期特征.csv\", index=None)"
   ]
  },
  {
   "cell_type": "code",
   "execution_count": 6,
   "metadata": {},
   "outputs": [],
   "source": [
    "# 提取中期特征，win和step代表窗口和步长，mt为一个[136,片段长度]的矩阵，mt_names为特征名称，保存为csv\n",
    "win, step = 0.05, 0.05\n",
    "for i,x in enumerate(s):\n",
    "    mt, _, mt_names = amF.mid_feature_extraction(x, fs[i], 10*int(fs[i] * win), 10*int(fs[i] * step), int(fs[i] * win), int(fs[i] * step))\n",
    "    data = pd.DataFrame(np.transpose(mt), columns=mt_names)\n",
    "    data.to_csv(f\"C:/Users/25529/Desktop/File/2023spring/语言风格分析/4.24测试分析数据/录音/自我介绍/自我介绍-{i+1}号-中期特征.csv\", index=None)"
   ]
  },
  {
   "attachments": {},
   "cell_type": "markdown",
   "metadata": {},
   "source": [
    "## 偷企鹅蛋"
   ]
  },
  {
   "cell_type": "code",
   "execution_count": 7,
   "metadata": {},
   "outputs": [],
   "source": [
    "# fs为原文件采样率，s指音频文件总的样本数\n",
    "fs1, s1 = aIO.read_audio_file(\"C:/Users/25529/Desktop/File/2023spring/语言风格分析/4.24测试分析数据/录音/偷企鹅蛋/讨论执行.wav\"); s1 = s1[:,0]\n",
    "fs2, s2 = aIO.read_audio_file(\"C:/Users/25529/Desktop/File/2023spring/语言风格分析/4.24测试分析数据/录音/偷企鹅蛋/做出决策.wav\"); s2 = s2[:,0]"
   ]
  },
  {
   "cell_type": "code",
   "execution_count": 8,
   "metadata": {},
   "outputs": [
    {
     "name": "stdout",
     "output_type": "stream",
     "text": [
      "1:duration = 348.99401360544215 seconds\n",
      "2:duration = 193.417052154195 seconds\n",
      "3:duration = 223.73303854875283 seconds\n",
      "4:duration = 345.60693877551023 seconds\n",
      "5:duration = 473.01197278911565 seconds\n",
      "6:duration = 366.1079818594104 seconds\n"
     ]
    }
   ],
   "source": [
    "# 利用总样本数/每秒多少个样本=时长，来输出你的音频文件有多长\n",
    "for i,x in enumerate(s):\n",
    "    duration = len(x) / float(fs[i])\n",
    "    print(f'{i+1}:duration = {duration} seconds')"
   ]
  },
  {
   "cell_type": "code",
   "execution_count": 9,
   "metadata": {},
   "outputs": [],
   "source": [
    "# 提取短期特征，win和step代表窗口和步长，f为一个[68,片段长度]的矩阵，fn为特征名称，保存为csv\n",
    "win, step = 0.05, 0.05\n",
    "[f, fn] = asF.feature_extraction(s1, fs1, fs1 * win, fs1 * step)\n",
    "data = pd.DataFrame(np.transpose(f), columns=fn)\n",
    "data.to_csv(f\"C:/Users/25529/Desktop/File/2023spring/语言风格分析/4.24测试分析数据/录音/偷企鹅蛋/讨论执行-短期特征.csv\", index=None)\n",
    "\n",
    "[f, fn] = asF.feature_extraction(s2, fs2, fs2 * win, fs2 * step)\n",
    "data = pd.DataFrame(np.transpose(f), columns=fn)\n",
    "data.to_csv(f\"C:/Users/25529/Desktop/File/2023spring/语言风格分析/4.24测试分析数据/录音/偷企鹅蛋/做出决策-短期特征.csv\", index=None)"
   ]
  },
  {
   "cell_type": "code",
   "execution_count": 10,
   "metadata": {},
   "outputs": [],
   "source": [
    "mt, _, mt_names = amF.mid_feature_extraction(s1, fs1, 10*int(fs1 * win), 10*int(fs1 * step), int(fs1 * win), int(fs1 * step))\n",
    "data = pd.DataFrame(np.transpose(mt), columns=mt_names)\n",
    "data.to_csv(f\"C:/Users/25529/Desktop/File/2023spring/语言风格分析/4.24测试分析数据/录音/偷企鹅蛋/讨论执行-中期特征.csv\", index=None)\n",
    "\n",
    "mt, _, mt_names = amF.mid_feature_extraction(s2, fs2, 10*int(fs2 * win), 10*int(fs2 * step), int(fs2 * win), int(fs2 * step))\n",
    "data = pd.DataFrame(np.transpose(mt), columns=mt_names)\n",
    "data.to_csv(f\"C:/Users/25529/Desktop/File/2023spring/语言风格分析/4.24测试分析数据/录音/偷企鹅蛋/做出决策-中期特征.csv\", index=None)"
   ]
  }
 ],
 "metadata": {
  "kernelspec": {
   "display_name": "base",
   "language": "python",
   "name": "python3"
  },
  "language_info": {
   "codemirror_mode": {
    "name": "ipython",
    "version": 3
   },
   "file_extension": ".py",
   "mimetype": "text/x-python",
   "name": "python",
   "nbconvert_exporter": "python",
   "pygments_lexer": "ipython3",
   "version": "3.9.7"
  },
  "orig_nbformat": 4
 },
 "nbformat": 4,
 "nbformat_minor": 2
}
